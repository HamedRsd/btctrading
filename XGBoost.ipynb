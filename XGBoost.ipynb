{
 "cells": [
  {
   "cell_type": "code",
   "execution_count": 1,
   "metadata": {
    "collapsed": false,
    "deletable": true,
    "editable": true
   },
   "outputs": [],
   "source": [
    "import numpy as np\n",
    "import pandas as pd\n",
    "from sklearn.ensemble import *\n",
    "import xgboost as xgb\n",
    "import operator\n",
    "\n",
    "import settings\n",
    "from ta import *\n",
    "import utils"
   ]
  },
  {
   "cell_type": "markdown",
   "metadata": {
    "deletable": true,
    "editable": true
   },
   "source": [
    "### Load Data"
   ]
  },
  {
   "cell_type": "code",
   "execution_count": 3,
   "metadata": {
    "collapsed": true,
    "deletable": true,
    "editable": true
   },
   "outputs": [],
   "source": [
    "df = pd.read_csv('data/datas-Hourly.csv', sep=',')"
   ]
  },
  {
   "cell_type": "code",
   "execution_count": 4,
   "metadata": {
    "collapsed": false,
    "deletable": true,
    "editable": true
   },
   "outputs": [
    {
     "name": "stdout",
     "output_type": "stream",
     "text": [
      "Number of rows: 58725, Number of columns: 8\n"
     ]
    }
   ],
   "source": [
    "print('Number of rows: {}, Number of columns: {}'.format(*df.shape))"
   ]
  },
  {
   "cell_type": "markdown",
   "metadata": {
    "deletable": true,
    "editable": true
   },
   "source": [
    "### Preprocessing"
   ]
  },
  {
   "cell_type": "code",
   "execution_count": 5,
   "metadata": {
    "collapsed": true,
    "deletable": true,
    "editable": true
   },
   "outputs": [],
   "source": [
    "df = utils.dropna(df)"
   ]
  },
  {
   "cell_type": "code",
   "execution_count": 6,
   "metadata": {
    "collapsed": false,
    "deletable": true,
    "editable": true
   },
   "outputs": [
    {
     "name": "stdout",
     "output_type": "stream",
     "text": [
      "Number of rows: 52974, Number of columns: 8\n"
     ]
    }
   ],
   "source": [
    "print('Number of rows: {}, Number of columns: {}'.format(*df.shape))"
   ]
  },
  {
   "cell_type": "markdown",
   "metadata": {
    "deletable": true,
    "editable": true
   },
   "source": [
    "### Transformation"
   ]
  },
  {
   "cell_type": "code",
   "execution_count": 7,
   "metadata": {},
   "outputs": [],
   "source": [
    "# shift\n",
    "df['Close_target'] = df['Close'].shift(-1)\n",
    "df = df.dropna()"
   ]
  },
  {
   "cell_type": "markdown",
   "metadata": {
    "deletable": true,
    "editable": true
   },
   "source": [
    "Create column target with class [UP, KEEP, DOWN]"
   ]
  },
  {
   "cell_type": "code",
   "execution_count": 8,
   "metadata": {
    "collapsed": true,
    "deletable": true,
    "editable": true
   },
   "outputs": [],
   "source": [
    "df[\"Target\"] = 0 # 'KEEP'\n",
    "df.loc[df.Close + (df.Close * settings.PERCENT_UP) < df.Close_target, \"Target\"] = 1 # 'UP'\n",
    "df.loc[df.Close - (df.Close * settings.PERCENT_DOWN) > df.Close_target, \"Target\"] = 2 # 'DOWN'"
   ]
  },
  {
   "cell_type": "code",
   "execution_count": 9,
   "metadata": {
    "collapsed": false,
    "deletable": true,
    "editable": true
   },
   "outputs": [
    {
     "name": "stdout",
     "output_type": "stream",
     "text": [
      "Number of rows: 52973, Number of columns: 10\n",
      "Number of UP rows: 4867, Number of DOWN rows: 4488\n"
     ]
    }
   ],
   "source": [
    "print('Number of rows: {}, Number of columns: {}'.format(*df.shape))\n",
    "print('Number of UP rows: {}, Number of DOWN rows: {}'.format(len(df[df.Target == 1]), len(df[df.Target == 2])))"
   ]
  },
  {
   "cell_type": "markdown",
   "metadata": {
    "deletable": true,
    "editable": true
   },
   "source": [
    "Create columns from Timestamp to Date, Year, Month, Hour, etc."
   ]
  },
  {
   "cell_type": "markdown",
   "metadata": {
    "deletable": true,
    "editable": true
   },
   "source": [
    "### Feature Engineering"
   ]
  },
  {
   "cell_type": "code",
   "execution_count": 10,
   "metadata": {
    "collapsed": true,
    "deletable": true,
    "editable": true
   },
   "outputs": [],
   "source": [
    "df['Date'] = df['Timestamp'].apply(utils.timestamptodate)\n",
    "df['Date'] = pd.to_datetime(df['Date'])\n",
    "\n",
    "df['Year'] = df['Date'].dt.year\n",
    "df['Month'] = df['Date'].dt.month\n",
    "df['Week'] = df['Date'].dt.weekofyear\n",
    "df['Weekday'] = df['Date'].dt.weekday\n",
    "df['Day'] = df['Date'].dt.day\n",
    "df['Hour'] = df['Date'].dt.hour"
   ]
  },
  {
   "cell_type": "code",
   "execution_count": 11,
   "metadata": {
    "collapsed": false,
    "deletable": true,
    "editable": true
   },
   "outputs": [
    {
     "name": "stdout",
     "output_type": "stream",
     "text": [
      "Number of rows: 52973, Number of columns: 17\n"
     ]
    }
   ],
   "source": [
    "print('Number of rows: {}, Number of columns: {}'.format(*df.shape))"
   ]
  },
  {
   "cell_type": "markdown",
   "metadata": {
    "deletable": true,
    "editable": true
   },
   "source": [
    "# Technical Analysis"
   ]
  },
  {
   "cell_type": "markdown",
   "metadata": {
    "deletable": true,
    "editable": true
   },
   "source": [
    "https://en.wikipedia.org/wiki/Technical_analysis\n",
    "\n",
    "https://github.com/bukosabino/ta"
   ]
  },
  {
   "cell_type": "code",
   "execution_count": 12,
   "metadata": {
    "collapsed": false,
    "deletable": true,
    "editable": true
   },
   "outputs": [],
   "source": [
    "df = add_all_ta_features(df, \"Open\", \"High\", \"Low\", \"Close\", \"Volume_BTC\", fillna=True)"
   ]
  },
  {
   "cell_type": "code",
   "execution_count": 13,
   "metadata": {
    "collapsed": false,
    "deletable": true,
    "editable": true
   },
   "outputs": [
    {
     "name": "stdout",
     "output_type": "stream",
     "text": [
      "Number of rows: 52973, Number of columns: 65\n",
      "Number of rows: 52973, Number of columns: 65\n"
     ]
    }
   ],
   "source": [
    "print('Number of rows: {}, Number of columns: {}'.format(*df.shape))\n",
    "df = df.dropna()\n",
    "print('Number of rows: {}, Number of columns: {}'.format(*df.shape))"
   ]
  },
  {
   "cell_type": "markdown",
   "metadata": {
    "deletable": true,
    "editable": true
   },
   "source": [
    "### Split"
   ]
  },
  {
   "cell_type": "code",
   "execution_count": 14,
   "metadata": {
    "collapsed": true,
    "deletable": true,
    "editable": true
   },
   "outputs": [],
   "source": [
    "train, test = utils.split_df2(df)"
   ]
  },
  {
   "cell_type": "code",
   "execution_count": 15,
   "metadata": {
    "collapsed": true,
    "deletable": true,
    "editable": true
   },
   "outputs": [],
   "source": [
    "excl = ['Close_target', 'Target', 'Date', 'Timestamp']\n",
    "cols = [c for c in df.columns if c not in excl]"
   ]
  },
  {
   "cell_type": "markdown",
   "metadata": {
    "deletable": true,
    "editable": true
   },
   "source": [
    "# xgboost"
   ]
  },
  {
   "cell_type": "code",
   "execution_count": 16,
   "metadata": {
    "collapsed": true,
    "deletable": true,
    "editable": true
   },
   "outputs": [
    {
     "name": "stdout",
     "output_type": "stream",
     "text": [
      "705\n",
      "Accuracy: 0.820522500755059\n",
      "Coefficient Kappa: 0.17967900398020387\n",
      "Classification Report:\n",
      "             precision    recall  f1-score   support\n",
      "\n",
      "       KEEP       0.85      0.97      0.91     10891\n",
      "         UP       0.34      0.14      0.20      1198\n",
      "       DOWN       0.35      0.08      0.13      1155\n",
      "\n",
      "avg / total       0.76      0.82      0.78     13244\n",
      "\n",
      "Confussion Matrix:\n",
      "[[10609   192    90]\n",
      " [  953   164    81]\n",
      " [  939   122    94]]\n",
      "\n",
      " \n",
      " \n",
      " \n",
      " \n",
      " \n",
      " ********** WEIGHT ************\n",
      "('volatility11', 119)\n",
      "('volatility10', 238)\n",
      "('others2', 798)\n",
      "('volatility5', 1392)\n",
      "('volatility6', 1596)\n",
      "('trend9', 1790)\n",
      "('volatility15', 3119)\n",
      "('volatility12', 3776)\n",
      "('volatility14', 3944)\n",
      "('trend4', 3955)\n",
      "('Weighted_Price', 4485)\n",
      "('volatility13', 6040)\n",
      "('volatility8', 6496)\n",
      "('volatility9', 7402)\n",
      "('volatility4', 7767)\n",
      "('volatility7', 8267)\n",
      "('Year', 8818)\n",
      "('trend5', 9663)\n",
      "('Close', 11246)\n",
      "('Low', 16553)\n",
      "('trend21', 18256)\n",
      "('trend20', 19700)\n",
      "('High', 22685)\n",
      "('volatility2', 24426)\n",
      "('volatility3', 26839)\n",
      "('Month', 30740)\n",
      "('Weekday', 42243)\n",
      "('Week', 42491)\n",
      "('trend1', 70733)\n",
      "('Open', 72519)\n",
      "('trend2', 74092)\n",
      "('Day', 76947)\n",
      "('momentum3', 77056)\n",
      "('trend17', 79030)\n",
      "('volume2', 85328)\n",
      "('Volume_Currency', 85556)\n",
      "('trend11', 86091)\n",
      "('trend10', 86362)\n",
      "('trend13', 88156)\n",
      "('trend12', 89501)\n",
      "('trend18', 90079)\n",
      "('momentum1', 91908)\n",
      "('trend3', 95531)\n",
      "('Hour', 103286)\n",
      "('trend15', 104287)\n",
      "('trend8', 105909)\n",
      "('volatility1', 106580)\n",
      "('trend7', 107938)\n",
      "('trend19', 108027)\n",
      "('momentum2', 108027)\n",
      "('volume7', 110940)\n",
      "('volume3', 124293)\n",
      "('volume8', 126557)\n",
      "('trend6', 129330)\n",
      "('trend14', 131858)\n",
      "('Volume_BTC', 132663)\n",
      "('trend16', 132890)\n",
      "('volume5', 133373)\n",
      "('volume6', 137591)\n",
      "('others1', 142877)\n",
      "('volume1', 145204)\n",
      "\n",
      " \n",
      " \n",
      " \n",
      " \n",
      " \n",
      " ********** GAIN ************\n",
      "('volatility10', 0.5170872642436973)\n",
      "('volatility11', 0.6923272478991596)\n",
      "('Hour', 0.7776092010327927)\n",
      "('Month', 0.7852729577103852)\n",
      "('Day', 0.7876862054303283)\n",
      "('volatility5', 0.7979466844181038)\n",
      "('volume5', 0.8210902556455228)\n",
      "('volatility14', 0.825407780302206)\n",
      "('Weekday', 0.8293042292520628)\n",
      "('trend6', 0.8393059854688465)\n",
      "('Open', 0.8458727616243855)\n",
      "('momentum2', 0.8474287701248672)\n",
      "('volatility15', 0.8495073505598585)\n",
      "('trend8', 0.8547808506905206)\n",
      "('volume2', 0.8592118954569066)\n",
      "('volume3', 0.8604327502105438)\n",
      "('trend1', 0.8616572123865395)\n",
      "('volume6', 0.8646017543505381)\n",
      "('trend14', 0.8693222377657203)\n",
      "('trend10', 0.8754798352735653)\n",
      "('High', 0.877790817767375)\n",
      "('trend12', 0.8781832139771398)\n",
      "('volume7', 0.882191959332056)\n",
      "('trend7', 0.8864446714433019)\n",
      "('trend16', 0.8915465343589873)\n",
      "('trend2', 0.8946374629211571)\n",
      "('trend11', 0.9001826155240248)\n",
      "('Week', 0.9012241996892983)\n",
      "('volume1', 0.9047467269961832)\n",
      "('trend3', 0.910549631778559)\n",
      "('Volume_BTC', 0.9114029024833612)\n",
      "('momentum3', 0.9207257142873336)\n",
      "('trend15', 0.9439241988852526)\n",
      "('Volume_Currency', 0.9530427238455116)\n",
      "('trend9', 0.9550994335195528)\n",
      "('volatility2', 0.9794609926783743)\n",
      "('Low', 0.9856682138318975)\n",
      "('volume8', 1.0178480700506438)\n",
      "('volatility6', 1.0342069722380962)\n",
      "('momentum1', 1.0656084457519945)\n",
      "('trend19', 1.0729989191660079)\n",
      "('trend20', 1.081665951275685)\n",
      "('volatility4', 1.149141552223083)\n",
      "('Close', 1.2135379808866615)\n",
      "('volatility8', 1.216294072809271)\n",
      "('trend5', 1.2403155348239707)\n",
      "('Weighted_Price', 1.242261133136233)\n",
      "('volatility7', 1.2642245512622454)\n",
      "('trend21', 1.3242578875575186)\n",
      "('trend4', 1.3590979102683443)\n",
      "('volatility12', 1.444297699334481)\n",
      "('others2', 1.4933001948370925)\n",
      "('trend18', 1.504699381417896)\n",
      "('volatility3', 1.5825646511830562)\n",
      "('volatility9', 1.7304209456336155)\n",
      "('volatility1', 1.8404477313210088)\n",
      "('others1', 1.948720251290734)\n",
      "('trend17', 2.047671988596528)\n",
      "('trend13', 2.424660373838925)\n",
      "('Year', 3.2222409395096445)\n",
      "('volatility13', 7.313006800213395)\n",
      "\n",
      " \n",
      " \n",
      " \n",
      " \n",
      " \n",
      " ********** COVER ************\n",
      "('trend9', 25.804671592178796)\n",
      "('Hour', 28.143664812946596)\n",
      "('Weekday', 28.450029041497867)\n",
      "('Day', 31.309943080561446)\n",
      "('volatility5', 32.37619881465514)\n",
      "('Open', 36.18827653042627)\n",
      "('Month', 43.83631440858792)\n",
      "('trend10', 44.47150315613339)\n",
      "('trend8', 47.96643680848708)\n",
      "('volatility10', 48.76242525210083)\n",
      "('volume7', 52.63751205390411)\n",
      "('trend12', 52.852942747009635)\n",
      "('momentum2', 54.918665353476264)\n",
      "('trend16', 55.75632073301281)\n",
      "('trend6', 56.03004242751138)\n",
      "('volume6', 56.36601787820345)\n",
      "('volume1', 56.46354193562165)\n",
      "('volume3', 57.76640951059219)\n",
      "('trend7', 60.77275456966106)\n",
      "('trend11', 60.78656070378944)\n",
      "('volume5', 61.59079100275124)\n",
      "('trend1', 66.12234993397718)\n",
      "('trend3', 67.58943740523996)\n",
      "('volume2', 68.52123259176518)\n",
      "('trend14', 71.26857713153744)\n",
      "('volatility11', 75.49387336134457)\n",
      "('momentum3', 76.00257799898687)\n",
      "('Volume_Currency', 77.08950059914031)\n",
      "('High', 78.36661411373156)\n",
      "('trend15', 78.41498752462)\n",
      "('volatility15', 81.02395817249112)\n",
      "('Week', 87.49800016921324)\n",
      "('momentum1', 91.23010201016247)\n",
      "('volume8', 91.42220374953699)\n",
      "('Volume_BTC', 95.93807241664827)\n",
      "('trend2', 107.18907846609814)\n",
      "('volatility2', 112.50569906697801)\n",
      "('volatility14', 123.99511832657205)\n",
      "('Low', 124.78914586056896)\n",
      "('volatility4', 125.5098015037974)\n",
      "('volatility6', 126.88722194862169)\n",
      "('trend19', 152.25598072083815)\n",
      "('volatility8', 155.60228989070154)\n",
      "('trend20', 156.42042407918845)\n",
      "('volatility7', 164.47142885811044)\n",
      "('Close', 173.2054934963535)\n",
      "('Weighted_Price', 181.79089540468203)\n",
      "('others1', 194.52295166786772)\n",
      "('trend18', 204.86761891428418)\n",
      "('trend5', 212.98152218876058)\n",
      "('trend21', 222.4159118498022)\n",
      "('volatility12', 235.93438504502103)\n",
      "('trend17', 243.49888483677063)\n",
      "('trend13', 248.38765379225944)\n",
      "('volatility3', 263.6186295931295)\n",
      "('others2', 286.98657634085237)\n",
      "('trend4', 291.0410887206063)\n",
      "('volatility9', 322.6777623196429)\n",
      "('volatility1', 360.169337692341)\n",
      "('Year', 764.324576829213)\n",
      "('volatility13', 1350.233484963579)\n"
     ]
    }
   ],
   "source": [
    "y_train = train['Target']\n",
    "y_mean = np.mean(y_train)\n",
    "xgb_params = {\n",
    "    'n_trees': 800,\n",
    "    'eta': 0.0045,\n",
    "    'max_depth': 20,\n",
    "    'subsample': 1,\n",
    "    'colsample_bytree': 0.95,\n",
    "    'colsample_bylevel': 0.95,\n",
    "    'objective': 'multi:softmax',\n",
    "    'num_class' : 3,\n",
    "    'eval_metric': 'mlogloss', # 'merror', # 'rmse',\n",
    "    'base_score': 0,\n",
    "    'silent': 1\n",
    "}\n",
    "\n",
    "dtrain = xgb.DMatrix(train[cols], y_train)\n",
    "dtest = xgb.DMatrix(test[cols])\n",
    "\n",
    "cv_result = xgb.cv(xgb_params, dtrain)\n",
    "\n",
    "# xgboost, cross-validation\n",
    "\"\"\"\n",
    "cv_result = xgb.cv(xgb_params,\n",
    "                   dtrain,\n",
    "                   num_boost_round=5000,\n",
    "                   early_stopping_rounds=50,\n",
    "                   verbose_eval=50,\n",
    "                   show_stdv=False\n",
    "                  )\n",
    "num_boost_rounds = len(cv_result)\n",
    "\"\"\"\n",
    "num_boost_rounds = 705\n",
    "\n",
    "print(num_boost_rounds)\n",
    "\n",
    "# train\n",
    "model = xgb.train(xgb_params, dtrain, num_boost_round=num_boost_rounds)\n",
    "\n",
    "# predict\n",
    "y_pred = model.predict(dtest)\n",
    "y_true = test['Target']\n",
    "\n",
    "utils.metrics(y_true, y_pred)\n",
    "\n",
    "print(\"\\n \\n \\n \\n \\n \\n ********** WEIGHT ************\")\n",
    "importance = model.get_fscore()\n",
    "importance = sorted(importance.items(), key=operator.itemgetter(1))\n",
    "for i in importance:\n",
    "    print (i)\n",
    "    \n",
    "print(\"\\n \\n \\n \\n \\n \\n ********** GAIN ************\")\n",
    "importance = model.get_score(fmap='', importance_type='gain')\n",
    "importance = sorted(importance.items(), key=operator.itemgetter(1))\n",
    "for i in importance:\n",
    "    print (i)\n",
    "    \n",
    "print(\"\\n \\n \\n \\n \\n \\n ********** COVER ************\")\n",
    "importance = model.get_score(fmap='', importance_type='cover')\n",
    "importance = sorted(importance.items(), key=operator.itemgetter(1))\n",
    "for i in importance:\n",
    "    print (i)"
   ]
  }
 ],
 "metadata": {
  "kernelspec": {
   "display_name": "Python 3",
   "language": "python",
   "name": "python3"
  },
  "language_info": {
   "codemirror_mode": {
    "name": "ipython",
    "version": 3
   },
   "file_extension": ".py",
   "mimetype": "text/x-python",
   "name": "python",
   "nbconvert_exporter": "python",
   "pygments_lexer": "ipython3",
   "version": "3.5.2"
  }
 },
 "nbformat": 4,
 "nbformat_minor": 2
}
